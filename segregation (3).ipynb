{
 "cells": [
  {
   "cell_type": "code",
   "execution_count": 1,
   "metadata": {},
   "outputs": [],
   "source": [
    "import numpy as np\n",
    "import pandas as pd\n",
    "import random\n",
    "\n",
    "\n",
    "def isolation_indeoutlets(assignments, outlets):\n",
    "    total_group_democrat = sum(1 for a in assignments if a[2] == 'D')\n",
    "    total_group_republican = sum(1 for a in assignments if a[2] == 'R')\n",
    "\n",
    "    isolation_sum_d = 0\n",
    "    isolation_sum_r = 0\n",
    "\n",
    "    for outlet in outlets:\n",
    "        if len(outlet) == 1: #Outlet level\n",
    "            count_group_d = sum(1 for a in assignments if a[0] == outlet[0] and a[2] == 'D')\n",
    "            count_group_r = sum(1 for a in assignments if a[0] == outlet[0] and a[2] == 'R')\n",
    "            total_in_outlet = sum(1 for a in assignments if a[0] == outlet[0])\n",
    "\n",
    "        else: #Article level\n",
    "            count_group_d = sum(1 for a in assignments if a[0] == outlet[0] and a[2] == 'D')\n",
    "            count_group_r = sum(1 for a in assignments if a[0] == outlet[0] and a[2] == 'R')\n",
    "            total_in_outlet = sum(1 for a in assignments if a[:2] == outlet)\n",
    "        \n",
    "        if total_in_outlet > 0:\n",
    "            isolation_sum_d += (count_group_d / total_group_democrat) * (count_group_d / total_in_outlet)\n",
    "            isolation_sum_r += (count_group_r / total_group_republican) * (count_group_d / total_in_outlet)\n",
    "    \n",
    "    return isolation_sum_d - isolation_sum_r\n",
    "\n",
    "\n",
    "def run_simulation(outlets, articles, democrats, republicans, num_simulations):\n",
    "    \n",
    "    segregation_results = {'segregation_index_outlet': [], 'segregation_index_article': []}\n",
    "    \n",
    "    for _ in range(num_simulations):\n",
    "        assignments = [(random.randint(0, outlets-1), random.randint(0, articles-1), 'D') for _ in range(democrats)] + \\\n",
    "                  [(random.randint(0, outlets-1), random.randint(0, articles-1), 'R') for _ in range(republicans)]\n",
    "\n",
    "        segregation_index_outlet = isolation_indeoutlets(assignments,  [(outlet,) for outlet in range(outlets)])\n",
    "        segregation_index_article = isolation_indeoutlets(assignments,  [(outlet,article) for outlet in range(outlets) for article in range(articles) ])\n",
    "            \n",
    "        segregation_results['segregation_index_outlet'].append(segregation_index_outlet)\n",
    "        segregation_results['segregation_index_article'].append(segregation_index_article)\n",
    "    \n",
    "    \n",
    "    return pd.DataFrame(segregation_results)\n",
    "\n",
    "outlet_no = 5\n",
    "article_no = 3\n",
    "democrat_no = 5\n",
    "republican_no = 5\n",
    "num_simulations = 1000 \n",
    "segregation_levels = run_simulation(outlet_no, article_no, democrat_no, republican_no, num_simulations)\n"
   ]
  },
  {
   "cell_type": "code",
   "execution_count": 2,
   "metadata": {},
   "outputs": [
    {
     "data": {
      "text/html": [
       "<div>\n",
       "<style scoped>\n",
       "    .dataframe tbody tr th:only-of-type {\n",
       "        vertical-align: middle;\n",
       "    }\n",
       "\n",
       "    .dataframe tbody tr th {\n",
       "        vertical-align: top;\n",
       "    }\n",
       "\n",
       "    .dataframe thead th {\n",
       "        text-align: right;\n",
       "    }\n",
       "</style>\n",
       "<table border=\"1\" class=\"dataframe\">\n",
       "  <thead>\n",
       "    <tr style=\"text-align: right;\">\n",
       "      <th></th>\n",
       "      <th>segregation_index_outlet</th>\n",
       "      <th>segregation_index_article</th>\n",
       "    </tr>\n",
       "  </thead>\n",
       "  <tbody>\n",
       "    <tr>\n",
       "      <th>0</th>\n",
       "      <td>0.266667</td>\n",
       "      <td>0.2</td>\n",
       "    </tr>\n",
       "    <tr>\n",
       "      <th>1</th>\n",
       "      <td>0.700000</td>\n",
       "      <td>3.2</td>\n",
       "    </tr>\n",
       "    <tr>\n",
       "      <th>2</th>\n",
       "      <td>0.266667</td>\n",
       "      <td>1.1</td>\n",
       "    </tr>\n",
       "    <tr>\n",
       "      <th>3</th>\n",
       "      <td>0.533333</td>\n",
       "      <td>2.8</td>\n",
       "    </tr>\n",
       "    <tr>\n",
       "      <th>4</th>\n",
       "      <td>0.300000</td>\n",
       "      <td>3.0</td>\n",
       "    </tr>\n",
       "    <tr>\n",
       "      <th>...</th>\n",
       "      <td>...</td>\n",
       "      <td>...</td>\n",
       "    </tr>\n",
       "    <tr>\n",
       "      <th>995</th>\n",
       "      <td>0.533333</td>\n",
       "      <td>1.5</td>\n",
       "    </tr>\n",
       "    <tr>\n",
       "      <th>996</th>\n",
       "      <td>0.300000</td>\n",
       "      <td>3.0</td>\n",
       "    </tr>\n",
       "    <tr>\n",
       "      <th>997</th>\n",
       "      <td>0.200000</td>\n",
       "      <td>0.2</td>\n",
       "    </tr>\n",
       "    <tr>\n",
       "      <th>998</th>\n",
       "      <td>0.133333</td>\n",
       "      <td>-0.1</td>\n",
       "    </tr>\n",
       "    <tr>\n",
       "      <th>999</th>\n",
       "      <td>0.133333</td>\n",
       "      <td>0.6</td>\n",
       "    </tr>\n",
       "  </tbody>\n",
       "</table>\n",
       "<p>1000 rows × 2 columns</p>\n",
       "</div>"
      ],
      "text/plain": [
       "     segregation_index_outlet  segregation_index_article\n",
       "0                    0.266667                        0.2\n",
       "1                    0.700000                        3.2\n",
       "2                    0.266667                        1.1\n",
       "3                    0.533333                        2.8\n",
       "4                    0.300000                        3.0\n",
       "..                        ...                        ...\n",
       "995                  0.533333                        1.5\n",
       "996                  0.300000                        3.0\n",
       "997                  0.200000                        0.2\n",
       "998                  0.133333                       -0.1\n",
       "999                  0.133333                        0.6\n",
       "\n",
       "[1000 rows x 2 columns]"
      ]
     },
     "execution_count": 2,
     "metadata": {},
     "output_type": "execute_result"
    }
   ],
   "source": [
    "#Display the whole dataframe\n",
    "segregation_levels"
   ]
  },
  {
   "cell_type": "code",
   "execution_count": 3,
   "metadata": {},
   "outputs": [
    {
     "name": "stdout",
     "output_type": "stream",
     "text": [
      "segregation_index_outlet     0.396561\n",
      "segregation_index_article    1.215883\n",
      "dtype: float64\n"
     ]
    }
   ],
   "source": [
    "#Print the mean segregation index for both outlet and article\n",
    "print(segregation_levels.mean())"
   ]
  },
  {
   "cell_type": "code",
   "execution_count": 5,
   "metadata": {},
   "outputs": [],
   "source": [
    "#Export the dataframe to an excel file\n",
    "segregation_levels.to_excel('segregation_index.xlsx', index=False)"
   ]
  },
  {
   "cell_type": "code",
   "execution_count": null,
   "metadata": {},
   "outputs": [],
   "source": []
  }
 ],
 "metadata": {
  "kernelspec": {
   "display_name": "Python 3 (ipykernel)",
   "language": "python",
   "name": "python3"
  },
  "language_info": {
   "codemirror_mode": {
    "name": "ipython",
    "version": 3
   },
   "file_extension": ".py",
   "mimetype": "text/x-python",
   "name": "python",
   "nbconvert_exporter": "python",
   "pygments_lexer": "ipython3",
   "version": "3.11.2"
  },
  "vscode": {
   "interpreter": {
    "hash": "aee8b7b246df8f9039afb4144a1f6fd8d2ca17a180786b69acc140d282b71a49"
   }
  }
 },
 "nbformat": 4,
 "nbformat_minor": 2
}
